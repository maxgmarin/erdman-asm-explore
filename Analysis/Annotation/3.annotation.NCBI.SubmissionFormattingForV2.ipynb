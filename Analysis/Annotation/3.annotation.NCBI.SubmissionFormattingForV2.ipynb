{
 "cells": [
  {
   "cell_type": "code",
   "execution_count": 1,
   "id": "c3d60518-7525-443d-88a1-e4fa80fd4160",
   "metadata": {},
   "outputs": [],
   "source": [
    "from Bio import SeqIO\n"
   ]
  },
  {
   "cell_type": "code",
   "execution_count": 2,
   "id": "45afa9ef-985e-4049-9d0f-380fe0ff932f",
   "metadata": {},
   "outputs": [],
   "source": [
    "allowed_qualifiers = ['locus_tag', 'gene', 'product', 'pseudo', 'protein_id', 'gene_desc', 'old_locus_tag', 'note', 'inference', \\\n",
    "\t\t\t\t\t  'organism', 'mol_type', 'strain', 'sub_species', 'isolation-source', 'country', \\\n",
    "\t\t\t\t\t  'collection_date']  # In GenBank files, the qualifier 'collection-date' is written as 'collection_date'."
   ]
  },
  {
   "cell_type": "code",
   "execution_count": null,
   "id": "9e3419b0-b398-4287-bcf3-c0b955adfbd7",
   "metadata": {},
   "outputs": [],
   "source": []
  },
  {
   "cell_type": "code",
   "execution_count": 3,
   "id": "f3c9b6fd-c181-4ff1-9dc6-1dfc6e85207c",
   "metadata": {},
   "outputs": [],
   "source": [
    "records = list(SeqIO.parse('CuratedAnnotationV2/Erdman.curated.V2.gb', 'genbank'))  # read a GenBank file from the standard input and convert it into a list of SeqRecord objects\n"
   ]
  },
  {
   "cell_type": "code",
   "execution_count": 4,
   "id": "fe30ae4c-cf9f-4b51-a676-3692cc55f644",
   "metadata": {},
   "outputs": [
    {
     "name": "stderr",
     "output_type": "stream",
     "text": [
      "/Users/mgmarin/miniconda3/lib/python3.8/site-packages/Bio/SeqFeature.py:1436: BiopythonDeprecationWarning: Use int(feature.start) rather than feature.nofuzzy_start\n",
      "  warnings.warn(\n",
      "/Users/mgmarin/miniconda3/lib/python3.8/site-packages/Bio/SeqFeature.py:1455: BiopythonDeprecationWarning: Use int(feature.end) rather than feature.nofuzzy_end\n",
      "  warnings.warn(\n"
     ]
    }
   ],
   "source": [
    "fasta_fh = open('CuratedAnnotationV2/Erdman.V2.fsa', 'w')\n",
    "feature_fh = open('CuratedAnnotationV2/Erdman.V2.tbl', 'w')\n",
    "\n",
    "for rec in records:  # for every SeqRecord object in the list 'records'\n",
    "    SeqIO.write([rec], fasta_fh, 'fasta')  # Prints this contig's sequence to the fasta file. The sequence header will be rec.description.\n",
    "\n",
    "    # write the feature table\n",
    "    print('>Feature %s' % (rec.name), file = feature_fh)  # write the first line of this record in the feature table: the LOCUS name\n",
    "    for f in rec.features:\n",
    "        # print the coordinates\n",
    "        if f.strand == 1:\n",
    "            print('%d\\t%d\\t%s' % (f.location.nofuzzy_start + 1, f.location.nofuzzy_end, f.type), file = feature_fh)\n",
    "        else:\n",
    "            print('%d\\t%d\\t%s' % (f.location.nofuzzy_end, f.location.nofuzzy_start + 1, f.type), file = feature_fh)\n",
    "\n",
    "        if (f.type == 'CDS') and ('product' not in f.qualifiers):\n",
    "            f.qualifiers['product'] = 'hypothetical protein'\n",
    "        # print qualifiers (keys and values)\n",
    "        for (key, values) in f.qualifiers.items():\n",
    "            '''\n",
    "            Apply the iteritems() method of the dictionary f.qualifiers for (key, values) pairs\n",
    "            iteritems() is a generator that yields 2-tuples for a dictionary. It saves time and memory but is slower than the items() method.\n",
    "            '''\n",
    "            # if key not in allowed_qualifiers:\n",
    "            #     continue  # start a new 'for' loop of f, skipping the following 'for' statement of v\n",
    "            for v in values:  # else, write all values under this key (qualifier's name)\n",
    "                print('\\t\\t\\t%s\\t%s' % (key, v), file = feature_fh)\n",
    "fasta_fh.close()  # finish the generation of the FASTA file\n",
    "feature_fh.close()  # finish the generation of the feature table"
   ]
  },
  {
   "cell_type": "code",
   "execution_count": null,
   "id": "492dad62-3115-4c19-8a7b-246c63684d33",
   "metadata": {},
   "outputs": [],
   "source": []
  },
  {
   "cell_type": "code",
   "execution_count": 5,
   "id": "f735500f-6d59-4ff8-8343-935ddfc90002",
   "metadata": {},
   "outputs": [
    {
     "name": "stdout",
     "output_type": "stream",
     "text": [
      "USAGE\n",
      "  table2asn [-h] [-help] [-help-full] [-xmlhelp] [-indir Directory]\n",
      "    [-outdir Directory] [-E] [-x String] [-i InFile] [-aln-file InFile]\n",
      "    [-aln-gapchar STRING] [-aln-missing STRING] [-aln-alphabet STRING]\n",
      "    [-o OutFile] [-out-suffix String] [-binary] [-t InFile] [-a String] [-J]\n",
      "    [-A String] [-C String] [-j String] [-src-file InFile] [-accum-mods]\n",
      "    [-y String] [-Y InFile] [-D InFile] [-f InFile] [-V String] [-q] [-U] [-T]\n",
      "    [-P] [-W] [-K] [-H String] [-Z] [-split-dr] [-c String] [-z OutFile]\n",
      "    [-N String] [-w InFile] [-M String] [-l String]\n",
      "    [-linkage-evidence-file InFile] [-gap-type String] [-m String]\n",
      "    [-ft-url String] [-ft-url-mod String] [-gaps-min Integer]\n",
      "    [-gaps-unknown Integer] [-postprocess-pubs] [-locus-tag-prefix String]\n",
      "    [-no-locus-tags-needed] [-euk] [-suspect-rules String] [-allow-acc]\n",
      "    [-intronless] [-refine-prt-alignments]\n",
      "    [-prt-alignment-filter-query String] [-logfile LogFile] [-logxml LogFile]\n",
      "    [-split-logs] [-verbose] [-huge] [-disable-huge] [-usemt String] [-r]\n",
      "    [-genbank] [-gb-method GBMethod] [-gb-snp enable] [-gb-wgs enable]\n",
      "    [-gb-cdd enable] [-vdb] [-novdb] [-vdb-path Path] [-sra] [-sra-acc AddSra]\n",
      "    [-sra-file AddSra] [-fetchall] [-conffile File_Name] [-version]\n",
      "    [-version-full] [-version-full-xml] [-version-full-json]\n",
      "\n",
      "DESCRIPTION\n",
      "   Converts files of various formats to ASN.1\n",
      "\n",
      "Use '-help' to print detailed descriptions of command line arguments\n",
      "========================================================================\n",
      "\n",
      "Error: Unknown argument: \"-help\"\n",
      "Error:  (CArgException::eInvalidArg) Unknown argument: \"-help\"\n"
     ]
    }
   ],
   "source": [
    "!table2asn --help"
   ]
  },
  {
   "cell_type": "code",
   "execution_count": null,
   "id": "0f4956db-239b-4c40-a7f1-629ec7254dc6",
   "metadata": {},
   "outputs": [],
   "source": []
  },
  {
   "cell_type": "code",
   "execution_count": 6,
   "id": "6b6ca93f-979c-4d5c-bc46-ddd192e88fda",
   "metadata": {},
   "outputs": [
    {
     "name": "stdout",
     "output_type": "stream",
     "text": [
      "Erdman.V2.fsa\n",
      "Erdman.V2.sbt\n",
      "Erdman.V2.tbl\n",
      "Erdman.curated.V2.gb\n",
      "Erdman.curated.V2.tsv\n"
     ]
    }
   ],
   "source": [
    "!ls -1 CuratedAnnotationV2/"
   ]
  },
  {
   "cell_type": "markdown",
   "id": "63eabc5a-f912-4551-9443-f66d2ec17bd9",
   "metadata": {},
   "source": [
    "## Run `table2asn` to create a `.sqn` file "
   ]
  },
  {
   "cell_type": "code",
   "execution_count": 7,
   "id": "bbd3bcbc-bb71-4b84-82bb-8c1e31b89eee",
   "metadata": {},
   "outputs": [
    {
     "name": "stdout",
     "output_type": "stream",
     "text": [
      "Will be using one threads\n",
      "Recognized annotation format: five-column feature table\n",
      "                Warning:\n",
      "Problem:        Unrecognized qualifier name\n",
      "SeqId:          lcl|ErdmanSF2024\n",
      "Line:           4\n",
      "FeatureName:    source\n",
      "QualifierName:  mol_type\n",
      "QualifierValue: genomic DNA\n",
      "\n",
      "\n",
      "                Warning:\n",
      "Problem:        Unrecognized qualifier name\n",
      "SeqId:          lcl|ErdmanSF2024\n",
      "Line:           5\n",
      "FeatureName:    source\n",
      "QualifierName:  db_xref\n",
      "QualifierValue: taxon:652616\n",
      "\n",
      "\n"
     ]
    }
   ],
   "source": [
    "!table2asn -t CuratedAnnotationV2/Erdman.V2.sbt -outdir CuratedAnnotationV2/ -indir CuratedAnnotationV2/"
   ]
  },
  {
   "cell_type": "code",
   "execution_count": null,
   "id": "97f9c779-9702-4459-b65e-23a1b6259aa1",
   "metadata": {},
   "outputs": [],
   "source": []
  },
  {
   "cell_type": "code",
   "execution_count": null,
   "id": "b02c7795-b54d-4f37-8d5c-072bce0edea1",
   "metadata": {},
   "outputs": [],
   "source": []
  },
  {
   "cell_type": "code",
   "execution_count": null,
   "id": "38ca15b6-33bc-4d75-98bb-b597ae3d16f7",
   "metadata": {},
   "outputs": [],
   "source": []
  },
  {
   "cell_type": "code",
   "execution_count": null,
   "id": "5ffde497-e1d2-4679-b04c-e9ca94c92d04",
   "metadata": {},
   "outputs": [],
   "source": []
  }
 ],
 "metadata": {
  "kernelspec": {
   "display_name": "Python 3 (ipykernel)",
   "language": "python",
   "name": "python3"
  },
  "language_info": {
   "codemirror_mode": {
    "name": "ipython",
    "version": 3
   },
   "file_extension": ".py",
   "mimetype": "text/x-python",
   "name": "python",
   "nbconvert_exporter": "python",
   "pygments_lexer": "ipython3",
   "version": "3.8.18"
  }
 },
 "nbformat": 4,
 "nbformat_minor": 5
}
