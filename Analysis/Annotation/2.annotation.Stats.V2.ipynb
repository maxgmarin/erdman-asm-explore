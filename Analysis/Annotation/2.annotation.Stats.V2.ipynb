{
 "cells": [
  {
   "cell_type": "markdown",
   "id": "b7162c17-a8e6-4780-8204-f8c82583de5c",
   "metadata": {},
   "source": [
    "# QC & exploration of final curated Erdman genome"
   ]
  },
  {
   "cell_type": "code",
   "execution_count": 18,
   "id": "c1c25adc-185a-4986-bdd8-37c5e4ef0e2d",
   "metadata": {},
   "outputs": [],
   "source": [
    "from Bio import SeqIO\n",
    "# from io import StringIO\n",
    "# from Bio.SeqFeature import SeqFeature, FeatureLocation\n",
    "import pandas as pd\n",
    "import bioframe as bf\n",
    "from Bio.Seq import Seq\n",
    "from Bio.SeqUtils import GC"
   ]
  },
  {
   "cell_type": "code",
   "execution_count": 19,
   "id": "e18841a7-70ae-4861-add9-d1074d67894c",
   "metadata": {},
   "outputs": [
    {
     "data": {
      "text/plain": [
       "(8185, 9)"
      ]
     },
     "execution_count": 19,
     "metadata": {},
     "output_type": "execute_result"
    }
   ],
   "source": [
    "df_annotations = pd.read_csv('./CuratedAnnotationV2/Erdman.curated.V2.tsv', sep='\\t')\n",
    "df_annotations.shape"
   ]
  },
  {
   "cell_type": "code",
   "execution_count": 20,
   "id": "5bbd4032-bde5-4640-ba86-41ba91a68b32",
   "metadata": {},
   "outputs": [
    {
     "data": {
      "text/html": [
       "<div>\n",
       "<style scoped>\n",
       "    .dataframe tbody tr th:only-of-type {\n",
       "        vertical-align: middle;\n",
       "    }\n",
       "\n",
       "    .dataframe tbody tr th {\n",
       "        vertical-align: top;\n",
       "    }\n",
       "\n",
       "    .dataframe thead th {\n",
       "        text-align: right;\n",
       "    }\n",
       "</style>\n",
       "<table border=\"1\" class=\"dataframe\">\n",
       "  <thead>\n",
       "    <tr style=\"text-align: right;\">\n",
       "      <th></th>\n",
       "      <th>locus_tag</th>\n",
       "      <th>gene</th>\n",
       "      <th>type</th>\n",
       "      <th>rv_equivalent</th>\n",
       "      <th>start</th>\n",
       "      <th>end</th>\n",
       "      <th>strand</th>\n",
       "      <th>source</th>\n",
       "      <th>note</th>\n",
       "    </tr>\n",
       "  </thead>\n",
       "  <tbody>\n",
       "    <tr>\n",
       "      <th>0</th>\n",
       "      <td>NaN</td>\n",
       "      <td>NaN</td>\n",
       "      <td>source</td>\n",
       "      <td>NaN</td>\n",
       "      <td>0</td>\n",
       "      <td>4416075</td>\n",
       "      <td>+</td>\n",
       "      <td>NaN</td>\n",
       "      <td>NaN</td>\n",
       "    </tr>\n",
       "    <tr>\n",
       "      <th>1</th>\n",
       "      <td>ErdFL_0001</td>\n",
       "      <td>dnaA</td>\n",
       "      <td>gene</td>\n",
       "      <td>Rv0001</td>\n",
       "      <td>0</td>\n",
       "      <td>1524</td>\n",
       "      <td>+</td>\n",
       "      <td>ratt</td>\n",
       "      <td>Simliar to Rv0001 of M. tuberculosis H37Rv</td>\n",
       "    </tr>\n",
       "    <tr>\n",
       "      <th>2</th>\n",
       "      <td>ErdFL_0001</td>\n",
       "      <td>dnaA</td>\n",
       "      <td>CDS</td>\n",
       "      <td>Rv0001</td>\n",
       "      <td>0</td>\n",
       "      <td>1524</td>\n",
       "      <td>+</td>\n",
       "      <td>ratt</td>\n",
       "      <td>Simliar to Rv0001 of M. tuberculosis H37Rv</td>\n",
       "    </tr>\n",
       "    <tr>\n",
       "      <th>3</th>\n",
       "      <td>NaN</td>\n",
       "      <td>NaN</td>\n",
       "      <td>rep_origin</td>\n",
       "      <td>NaN</td>\n",
       "      <td>1524</td>\n",
       "      <td>2051</td>\n",
       "      <td>+</td>\n",
       "      <td>bakta</td>\n",
       "      <td>De novo annotation with bakta</td>\n",
       "    </tr>\n",
       "    <tr>\n",
       "      <th>4</th>\n",
       "      <td>ErdFL_0002</td>\n",
       "      <td>dnaN</td>\n",
       "      <td>gene</td>\n",
       "      <td>Rv0002</td>\n",
       "      <td>2051</td>\n",
       "      <td>3260</td>\n",
       "      <td>+</td>\n",
       "      <td>ratt</td>\n",
       "      <td>Simliar to Rv0002 of M. tuberculosis H37Rv</td>\n",
       "    </tr>\n",
       "  </tbody>\n",
       "</table>\n",
       "</div>"
      ],
      "text/plain": [
       "    locus_tag  gene        type rv_equivalent  start      end strand source  \\\n",
       "0         NaN   NaN      source           NaN      0  4416075      +    NaN   \n",
       "1  ErdFL_0001  dnaA        gene        Rv0001      0     1524      +   ratt   \n",
       "2  ErdFL_0001  dnaA         CDS        Rv0001      0     1524      +   ratt   \n",
       "3         NaN   NaN  rep_origin           NaN   1524     2051      +  bakta   \n",
       "4  ErdFL_0002  dnaN        gene        Rv0002   2051     3260      +   ratt   \n",
       "\n",
       "                                         note  \n",
       "0                                         NaN  \n",
       "1  Simliar to Rv0001 of M. tuberculosis H37Rv  \n",
       "2  Simliar to Rv0001 of M. tuberculosis H37Rv  \n",
       "3               De novo annotation with bakta  \n",
       "4  Simliar to Rv0002 of M. tuberculosis H37Rv  "
      ]
     },
     "execution_count": 20,
     "metadata": {},
     "output_type": "execute_result"
    }
   ],
   "source": [
    "df_annotations.head()"
   ]
  },
  {
   "cell_type": "code",
   "execution_count": 21,
   "id": "b1f3b59b-0305-41f0-8b0d-593c60874442",
   "metadata": {},
   "outputs": [
    {
     "data": {
      "text/plain": [
       "source\n",
       "ratt     7893\n",
       "bakta     291\n",
       "Name: count, dtype: int64"
      ]
     },
     "execution_count": 21,
     "metadata": {},
     "output_type": "execute_result"
    }
   ],
   "source": [
    "df_annotations[\"source\"].value_counts()"
   ]
  },
  {
   "cell_type": "code",
   "execution_count": 22,
   "id": "869dee7d-3987-42a3-86d3-667f58090e93",
   "metadata": {},
   "outputs": [
    {
     "data": {
      "text/plain": [
       "source\n",
       "ratt     3874\n",
       "bakta     140\n",
       "Name: count, dtype: int64"
      ]
     },
     "execution_count": 22,
     "metadata": {},
     "output_type": "execute_result"
    }
   ],
   "source": [
    "df_annotations.query(\"type == 'CDS'\")[\"source\"].value_counts()"
   ]
  },
  {
   "cell_type": "code",
   "execution_count": 23,
   "id": "cf2f02e6-af88-4074-a6a9-b664aacfdf4b",
   "metadata": {},
   "outputs": [
    {
     "data": {
      "text/plain": [
       "type\n",
       "gene            4086\n",
       "CDS             4014\n",
       "tRNA              46\n",
       "ncRNA             21\n",
       "regulatory         6\n",
       "misc_feature       5\n",
       "rRNA               3\n",
       "misc_RNA           2\n",
       "source             1\n",
       "rep_origin         1\n",
       "Name: count, dtype: int64"
      ]
     },
     "execution_count": 23,
     "metadata": {},
     "output_type": "execute_result"
    }
   ],
   "source": [
    "df_annotations[\"type\"].value_counts()"
   ]
  },
  {
   "cell_type": "code",
   "execution_count": 24,
   "id": "38d66ae7-d315-4631-86d2-49421d7b41cb",
   "metadata": {},
   "outputs": [
    {
     "data": {
      "text/plain": [
       "type\n",
       "gene            4086\n",
       "CDS             4014\n",
       "tRNA              46\n",
       "ncRNA             21\n",
       "regulatory         6\n",
       "misc_feature       5\n",
       "rRNA               3\n",
       "misc_RNA           2\n",
       "source             1\n",
       "rep_origin         1\n",
       "Name: count, dtype: int64"
      ]
     },
     "execution_count": 24,
     "metadata": {},
     "output_type": "execute_result"
    }
   ],
   "source": [
    "df_annotations[\"type\"].value_counts()"
   ]
  },
  {
   "cell_type": "code",
   "execution_count": null,
   "id": "9263c607-fe59-4f2a-a167-5fabdacde3d8",
   "metadata": {},
   "outputs": [],
   "source": []
  },
  {
   "cell_type": "code",
   "execution_count": null,
   "id": "17bba76a-67f2-4862-8e6d-4ddab871c72b",
   "metadata": {},
   "outputs": [],
   "source": []
  },
  {
   "cell_type": "code",
   "execution_count": null,
   "id": "73eb550e-5ec6-42ec-a7f4-40134149d478",
   "metadata": {},
   "outputs": [],
   "source": []
  },
  {
   "cell_type": "code",
   "execution_count": 25,
   "id": "2307445e-5779-4c07-ae75-08a3f8f44cbe",
   "metadata": {},
   "outputs": [
    {
     "name": "stdout",
     "output_type": "stream",
     "text": [
      "GCF_000195955.2_ASM19595v2_genomic.embl\n"
     ]
    }
   ],
   "source": [
    "!ls -1 ../../References/H37Rv_Anno_EMBL"
   ]
  },
  {
   "cell_type": "code",
   "execution_count": 26,
   "id": "8593357c-90cd-46bd-b31b-7c524c3e0b6e",
   "metadata": {},
   "outputs": [],
   "source": [
    "records = [record for record in SeqIO.parse('../../References/H37Rv_Anno_EMBL/GCF_000195955.2_ASM19595v2_genomic.embl', 'embl')]    \n",
    "\n",
    "Rv_Seq = records[0].seq"
   ]
  },
  {
   "cell_type": "code",
   "execution_count": 27,
   "id": "441a9857-a7bd-4d99-a236-c0e2000bfd47",
   "metadata": {},
   "outputs": [],
   "source": [
    "records = [record for record in SeqIO.parse('./CuratedAnnotationV2/Erdman.curated.V2.gb', 'genbank')]\n",
    "\n",
    "Erdman_Seq = records[0].seq"
   ]
  },
  {
   "cell_type": "code",
   "execution_count": null,
   "id": "a1dce00f-d3e5-4f2b-b5f8-fa159b0cfc3b",
   "metadata": {},
   "outputs": [],
   "source": []
  },
  {
   "cell_type": "code",
   "execution_count": 28,
   "id": "1ec87586-6e94-4771-ab38-647e6a539ca3",
   "metadata": {},
   "outputs": [
    {
     "data": {
      "text/plain": [
       "4411532"
      ]
     },
     "execution_count": 28,
     "metadata": {},
     "output_type": "execute_result"
    }
   ],
   "source": [
    "len(Rv_Seq)"
   ]
  },
  {
   "cell_type": "code",
   "execution_count": 29,
   "id": "d6886713-e523-4e30-859a-7866738e9122",
   "metadata": {},
   "outputs": [
    {
     "data": {
      "text/plain": [
       "4416075"
      ]
     },
     "execution_count": 29,
     "metadata": {},
     "output_type": "execute_result"
    }
   ],
   "source": [
    "len(Erdman_Seq)"
   ]
  },
  {
   "cell_type": "code",
   "execution_count": 30,
   "id": "e65a3e85-6fc5-48e3-927e-2da11a1128d4",
   "metadata": {},
   "outputs": [
    {
     "name": "stdout",
     "output_type": "stream",
     "text": [
      "Erdman V2 - GC content: 65.61%\n"
     ]
    },
    {
     "name": "stderr",
     "output_type": "stream",
     "text": [
      "/Users/mgmarin/miniconda3/lib/python3.8/site-packages/Bio/SeqUtils/__init__.py:144: BiopythonDeprecationWarning: GC is deprecated; please use gc_fraction instead.\n",
      "  warnings.warn(\n"
     ]
    }
   ],
   "source": [
    "# Calculate GC content\n",
    "gc_content = GC(Erdman_Seq)\n",
    "print(f\"Erdman V2 - GC content: {gc_content:.2f}%\")"
   ]
  },
  {
   "cell_type": "code",
   "execution_count": 31,
   "id": "299ad228-3d35-4354-b5d5-9e829524f8e6",
   "metadata": {},
   "outputs": [
    {
     "name": "stdout",
     "output_type": "stream",
     "text": [
      "H37Rv - GC content: 65.61%\n"
     ]
    }
   ],
   "source": [
    "# Calculate GC content\n",
    "gc_content = GC(Rv_Seq)\n",
    "print(f\"H37Rv - GC content: {gc_content:.2f}%\")"
   ]
  },
  {
   "cell_type": "code",
   "execution_count": null,
   "id": "225448e8-c4fb-43b6-ba32-3c5f35a0fed0",
   "metadata": {},
   "outputs": [],
   "source": []
  },
  {
   "cell_type": "code",
   "execution_count": 32,
   "id": "e63dfc35-f1a0-41df-883a-63704f70b934",
   "metadata": {},
   "outputs": [
    {
     "name": "stdout",
     "output_type": "stream",
     "text": [
      "Erdman V2 - GC content: 65.60611%\n"
     ]
    }
   ],
   "source": [
    "# Calculate GC content\n",
    "gc_content = GC(Erdman_Seq)\n",
    "print(f\"Erdman V2 - GC content: {gc_content:.5f}%\")"
   ]
  },
  {
   "cell_type": "code",
   "execution_count": 33,
   "id": "c632b12d-26de-440e-99ee-40e9e6aa88a1",
   "metadata": {},
   "outputs": [
    {
     "name": "stdout",
     "output_type": "stream",
     "text": [
      "H37Rv - GC content: 65.61467%\n"
     ]
    }
   ],
   "source": [
    "# Calculate GC content\n",
    "gc_content = GC(Rv_Seq)\n",
    "print(f\"H37Rv - GC content: {gc_content:.5f}%\")"
   ]
  },
  {
   "cell_type": "code",
   "execution_count": null,
   "id": "f2a5f971-4944-404a-8feb-d5aea7ac2043",
   "metadata": {},
   "outputs": [],
   "source": []
  },
  {
   "cell_type": "code",
   "execution_count": null,
   "id": "c47ea31c-4de3-4325-a7f2-bf104ea07d7c",
   "metadata": {},
   "outputs": [],
   "source": []
  },
  {
   "cell_type": "code",
   "execution_count": null,
   "id": "deb28820-e82d-450b-9575-0316936e5308",
   "metadata": {},
   "outputs": [],
   "source": []
  },
  {
   "cell_type": "code",
   "execution_count": null,
   "id": "f12f21b4-49c3-4577-ab5c-4d54f5e4e044",
   "metadata": {},
   "outputs": [],
   "source": []
  },
  {
   "cell_type": "code",
   "execution_count": null,
   "id": "0343e07a-6ec8-4099-8dea-1ff6b204aaad",
   "metadata": {},
   "outputs": [],
   "source": []
  },
  {
   "cell_type": "code",
   "execution_count": null,
   "id": "7b4f71b6-91a0-455d-8334-ec4d8c156f75",
   "metadata": {},
   "outputs": [],
   "source": []
  },
  {
   "cell_type": "code",
   "execution_count": null,
   "id": "e7303332-caf3-40b0-bee7-0cf47d0a71cc",
   "metadata": {},
   "outputs": [],
   "source": []
  }
 ],
 "metadata": {
  "kernelspec": {
   "display_name": "Python 3 (ipykernel)",
   "language": "python",
   "name": "python3"
  },
  "language_info": {
   "codemirror_mode": {
    "name": "ipython",
    "version": 3
   },
   "file_extension": ".py",
   "mimetype": "text/x-python",
   "name": "python",
   "nbconvert_exporter": "python",
   "pygments_lexer": "ipython3",
   "version": "3.8.18"
  }
 },
 "nbformat": 4,
 "nbformat_minor": 5
}
