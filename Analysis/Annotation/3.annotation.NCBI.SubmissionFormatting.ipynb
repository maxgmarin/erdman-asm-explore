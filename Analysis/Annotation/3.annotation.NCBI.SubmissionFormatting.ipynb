{
 "cells": [
  {
   "cell_type": "code",
   "execution_count": 17,
   "id": "c3d60518-7525-443d-88a1-e4fa80fd4160",
   "metadata": {},
   "outputs": [],
   "source": [
    "from Bio import SeqIO\n"
   ]
  },
  {
   "cell_type": "code",
   "execution_count": 18,
   "id": "45afa9ef-985e-4049-9d0f-380fe0ff932f",
   "metadata": {},
   "outputs": [],
   "source": [
    "allowed_qualifiers = ['locus_tag', 'gene', 'product', 'pseudo', 'protein_id', 'gene_desc', 'old_locus_tag', 'note', 'inference', \\\n",
    "\t\t\t\t\t  'organism', 'mol_type', 'strain', 'sub_species', 'isolation-source', 'country', \\\n",
    "\t\t\t\t\t  'collection_date']  # In GenBank files, the qualifier 'collection-date' is written as 'collection_date'."
   ]
  },
  {
   "cell_type": "code",
   "execution_count": null,
   "id": "9e3419b0-b398-4287-bcf3-c0b955adfbd7",
   "metadata": {},
   "outputs": [],
   "source": []
  },
  {
   "cell_type": "code",
   "execution_count": 19,
   "id": "f3c9b6fd-c181-4ff1-9dc6-1dfc6e85207c",
   "metadata": {},
   "outputs": [],
   "source": [
    "records = list(SeqIO.parse('Erdman.curated.gb', 'genbank'))  # read a GenBank file from the standard input and convert it into a list of SeqRecord objects\n"
   ]
  },
  {
   "cell_type": "code",
   "execution_count": 20,
   "id": "fe30ae4c-cf9f-4b51-a676-3692cc55f644",
   "metadata": {},
   "outputs": [],
   "source": [
    "fasta_fh = open('Erdman.fsa', 'w')\n",
    "feature_fh = open('Erdman.tbl', 'w')\n",
    "\n",
    "for rec in records:  # for every SeqRecord object in the list 'records'\n",
    "    SeqIO.write([rec], fasta_fh, 'fasta')  # Prints this contig's sequence to the fasta file. The sequence header will be rec.description.\n",
    "\n",
    "    # write the feature table\n",
    "    print('>Feature %s' % (rec.name), file = feature_fh)  # write the first line of this record in the feature table: the LOCUS name\n",
    "    for f in rec.features:\n",
    "        # print the coordinates\n",
    "        if f.strand == 1:\n",
    "            print('%d\\t%d\\t%s' % (f.location.nofuzzy_start + 1, f.location.nofuzzy_end, f.type), file = feature_fh)\n",
    "        else:\n",
    "            print('%d\\t%d\\t%s' % (f.location.nofuzzy_end, f.location.nofuzzy_start + 1, f.type), file = feature_fh)\n",
    "\n",
    "        if (f.type == 'CDS') and ('product' not in f.qualifiers):\n",
    "            f.qualifiers['product'] = 'hypothetical protein'\n",
    "        # print qualifiers (keys and values)\n",
    "        for (key, values) in f.qualifiers.items():\n",
    "            '''\n",
    "            Apply the iteritems() method of the dictionary f.qualifiers for (key, values) pairs\n",
    "            iteritems() is a generator that yields 2-tuples for a dictionary. It saves time and memory but is slower than the items() method.\n",
    "            '''\n",
    "            # if key not in allowed_qualifiers:\n",
    "            #     continue  # start a new 'for' loop of f, skipping the following 'for' statement of v\n",
    "            for v in values:  # else, write all values under this key (qualifier's name)\n",
    "                print('\\t\\t\\t%s\\t%s' % (key, v), file = feature_fh)\n",
    "fasta_fh.close()  # finish the generation of the FASTA file\n",
    "feature_fh.close()  # finish the generation of the feature table"
   ]
  },
  {
   "cell_type": "code",
   "execution_count": null,
   "id": "492dad62-3115-4c19-8a7b-246c63684d33",
   "metadata": {},
   "outputs": [],
   "source": []
  },
  {
   "cell_type": "code",
   "execution_count": null,
   "id": "f735500f-6d59-4ff8-8343-935ddfc90002",
   "metadata": {},
   "outputs": [],
   "source": []
  },
  {
   "cell_type": "code",
   "execution_count": null,
   "id": "97f9c779-9702-4459-b65e-23a1b6259aa1",
   "metadata": {},
   "outputs": [],
   "source": []
  },
  {
   "cell_type": "code",
   "execution_count": null,
   "id": "b02c7795-b54d-4f37-8d5c-072bce0edea1",
   "metadata": {},
   "outputs": [],
   "source": []
  },
  {
   "cell_type": "code",
   "execution_count": null,
   "id": "38ca15b6-33bc-4d75-98bb-b597ae3d16f7",
   "metadata": {},
   "outputs": [],
   "source": []
  },
  {
   "cell_type": "code",
   "execution_count": null,
   "id": "5ffde497-e1d2-4679-b04c-e9ca94c92d04",
   "metadata": {},
   "outputs": [],
   "source": []
  }
 ],
 "metadata": {
  "kernelspec": {
   "display_name": "Python 3 (ipykernel)",
   "language": "python",
   "name": "python3"
  },
  "language_info": {
   "codemirror_mode": {
    "name": "ipython",
    "version": 3
   },
   "file_extension": ".py",
   "mimetype": "text/x-python",
   "name": "python",
   "nbconvert_exporter": "python",
   "pygments_lexer": "ipython3",
   "version": "3.8.18"
  }
 },
 "nbformat": 4,
 "nbformat_minor": 5
}
